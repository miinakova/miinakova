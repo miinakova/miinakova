{
 "cells": [
  {
   "cell_type": "markdown",
   "metadata": {},
   "source": [
    "<center>\n",
    "    <h2 style=\"color:  #008080; font-family: Arial, sans-serif; font-size: 32px; padding: 10px;\">\n",
    "        Week 10: Plotly in Python\n",
    "    </h2>\n",
    "</center>"
   ]
  },
  {
   "cell_type": "markdown",
   "metadata": {},
   "source": [
    "<a href=\"https://colab.research.google.com/github/gisynw/ssj-30262/blob/main/docs/Lectures/Week10_Plotly_instructor.ipynb\" target=\"_blank\">\n",
    "  <img src=\"https://colab.research.google.com/assets/colab-badge.svg\" alt=\"Open in Colab\" style=\"height: 30px;\"/>\n",
    "</a>\n",
    "&nbsp &nbsp\n",
    "<a href=\"./Week10_Plotly_instructor.ipynb\" target=\"_blank\"> \n",
    "  <img src=\"https://img.icons8.com/?size=100&id=108635&format=png&color=000000\" alt=\"Download\" style=\"height: 40px;\"/>\n",
    " </a>"
   ]
  },
  {
   "cell_type": "markdown",
   "metadata": {},
   "source": [
    "## 1. Download packages"
   ]
  },
  {
   "cell_type": "markdown",
   "metadata": {},
   "source": [
    "- Install Package in a Anaconda virtual environment\n",
    "```\n",
    "pip install plotly\n",
    "pip install dash\n",
    "pip install pandas\n",
    "```\n",
    "\n"
   ]
  },
  {
   "cell_type": "code",
   "execution_count": 4,
   "metadata": {},
   "outputs": [
    {
     "name": "stdout",
     "output_type": "stream",
     "text": [
      "Requirement already satisfied: plotly in c:\\users\\miiin\\anaconda3\\envs\\gpd\\lib\\site-packages (5.24.1)\n",
      "Requirement already satisfied: tenacity>=6.2.0 in c:\\users\\miiin\\anaconda3\\envs\\gpd\\lib\\site-packages (from plotly) (8.2.3)\n",
      "Requirement already satisfied: packaging in c:\\users\\miiin\\anaconda3\\envs\\gpd\\lib\\site-packages (from plotly) (24.1)\n",
      "Requirement already satisfied: dash in c:\\users\\miiin\\anaconda3\\envs\\gpd\\lib\\site-packages (2.14.2)\n",
      "Requirement already satisfied: Flask<3.1,>=1.0.4 in c:\\users\\miiin\\anaconda3\\envs\\gpd\\lib\\site-packages (from dash) (3.0.3)\n",
      "Requirement already satisfied: Werkzeug<3.1 in c:\\users\\miiin\\anaconda3\\envs\\gpd\\lib\\site-packages (from dash) (3.0.3)\n",
      "Requirement already satisfied: plotly>=5.0.0 in c:\\users\\miiin\\anaconda3\\envs\\gpd\\lib\\site-packages (from dash) (5.24.1)\n",
      "Requirement already satisfied: typing-extensions>=4.1.1 in c:\\users\\miiin\\anaconda3\\envs\\gpd\\lib\\site-packages (from dash) (4.11.0)\n",
      "Requirement already satisfied: requests in c:\\users\\miiin\\anaconda3\\envs\\gpd\\lib\\site-packages (from dash) (2.32.3)\n",
      "Requirement already satisfied: retrying in c:\\users\\miiin\\anaconda3\\envs\\gpd\\lib\\site-packages (from dash) (1.3.3)\n",
      "Requirement already satisfied: ansi2html in c:\\users\\miiin\\anaconda3\\envs\\gpd\\lib\\site-packages (from dash) (1.9.1)\n",
      "Requirement already satisfied: nest-asyncio in c:\\users\\miiin\\appdata\\roaming\\python\\python312\\site-packages (from dash) (1.6.0)\n",
      "Requirement already satisfied: setuptools in c:\\users\\miiin\\anaconda3\\envs\\gpd\\lib\\site-packages (from dash) (75.1.0)\n",
      "Requirement already satisfied: importlib-metadata in c:\\users\\miiin\\anaconda3\\envs\\gpd\\lib\\site-packages (from dash) (7.0.1)\n",
      "Requirement already satisfied: Jinja2>=3.1.2 in c:\\users\\miiin\\anaconda3\\envs\\gpd\\lib\\site-packages (from Flask<3.1,>=1.0.4->dash) (3.1.4)\n",
      "Requirement already satisfied: itsdangerous>=2.1.2 in c:\\users\\miiin\\anaconda3\\envs\\gpd\\lib\\site-packages (from Flask<3.1,>=1.0.4->dash) (2.2.0)\n",
      "Requirement already satisfied: click>=8.1.3 in c:\\users\\miiin\\anaconda3\\envs\\gpd\\lib\\site-packages (from Flask<3.1,>=1.0.4->dash) (8.1.7)\n",
      "Requirement already satisfied: blinker>=1.6.2 in c:\\users\\miiin\\anaconda3\\envs\\gpd\\lib\\site-packages (from Flask<3.1,>=1.0.4->dash) (1.6.2)\n",
      "Requirement already satisfied: tenacity>=6.2.0 in c:\\users\\miiin\\anaconda3\\envs\\gpd\\lib\\site-packages (from plotly>=5.0.0->dash) (8.2.3)\n",
      "Requirement already satisfied: packaging in c:\\users\\miiin\\anaconda3\\envs\\gpd\\lib\\site-packages (from plotly>=5.0.0->dash) (24.1)\n",
      "Requirement already satisfied: MarkupSafe>=2.1.1 in c:\\users\\miiin\\anaconda3\\envs\\gpd\\lib\\site-packages (from Werkzeug<3.1->dash) (2.1.3)\n",
      "Requirement already satisfied: zipp>=0.5 in c:\\users\\miiin\\anaconda3\\envs\\gpd\\lib\\site-packages (from importlib-metadata->dash) (3.20.2)\n",
      "Requirement already satisfied: charset-normalizer<4,>=2 in c:\\users\\miiin\\anaconda3\\envs\\gpd\\lib\\site-packages (from requests->dash) (3.3.2)\n",
      "Requirement already satisfied: idna<4,>=2.5 in c:\\users\\miiin\\anaconda3\\envs\\gpd\\lib\\site-packages (from requests->dash) (3.7)\n",
      "Requirement already satisfied: urllib3<3,>=1.21.1 in c:\\users\\miiin\\anaconda3\\envs\\gpd\\lib\\site-packages (from requests->dash) (2.2.3)\n",
      "Requirement already satisfied: certifi>=2017.4.17 in c:\\users\\miiin\\anaconda3\\envs\\gpd\\lib\\site-packages (from requests->dash) (2024.8.30)\n",
      "Requirement already satisfied: six>=1.7.0 in c:\\users\\miiin\\appdata\\roaming\\python\\python312\\site-packages (from retrying->dash) (1.16.0)\n",
      "Requirement already satisfied: colorama in c:\\users\\miiin\\anaconda3\\envs\\gpd\\lib\\site-packages (from click>=8.1.3->Flask<3.1,>=1.0.4->dash) (0.4.6)\n",
      "Requirement already satisfied: pandas in c:\\users\\miiin\\anaconda3\\envs\\gpd\\lib\\site-packages (2.2.2)\n",
      "Requirement already satisfied: numpy>=1.26.0 in c:\\users\\miiin\\anaconda3\\envs\\gpd\\lib\\site-packages (from pandas) (1.26.4)\n",
      "Requirement already satisfied: python-dateutil>=2.8.2 in c:\\users\\miiin\\appdata\\roaming\\python\\python312\\site-packages (from pandas) (2.9.0.post0)\n",
      "Requirement already satisfied: pytz>=2020.1 in c:\\users\\miiin\\anaconda3\\envs\\gpd\\lib\\site-packages (from pandas) (2024.1)\n",
      "Requirement already satisfied: tzdata>=2022.7 in c:\\users\\miiin\\anaconda3\\envs\\gpd\\lib\\site-packages (from pandas) (2023.3)\n",
      "Requirement already satisfied: six>=1.5 in c:\\users\\miiin\\appdata\\roaming\\python\\python312\\site-packages (from python-dateutil>=2.8.2->pandas) (1.16.0)\n"
     ]
    }
   ],
   "source": [
    "!pip install plotly\n",
    "!pip install dash\n",
    "!pip install pandas"
   ]
  },
  {
   "cell_type": "markdown",
   "metadata": {},
   "source": [
    "## 2. Introduction"
   ]
  },
  {
   "cell_type": "markdown",
   "metadata": {},
   "source": [
    "### 2.1 Plotly\n",
    "\n",
    "[Plotly](https://chart-studio.plotly.com/~demos#/) is powerful, open-source graphing library that makes it easy to create interactive, visually appealing charts and dashboards for data visualization\n"
   ]
  },
  {
   "cell_type": "markdown",
   "metadata": {},
   "source": [
    "### 2.2 Dash\n",
    "\n",
    "[Dash](https://dash.plotly.com/) is an open-source framework for building analytical applications, with no Javascript required, and it is tightly integrated with the Plotly graphing library."
   ]
  },
  {
   "cell_type": "markdown",
   "metadata": {},
   "source": [
    "## 3. Import Packages"
   ]
  },
  {
   "cell_type": "code",
   "execution_count": 1,
   "metadata": {},
   "outputs": [],
   "source": [
    "import pandas as pd\n",
    "import os\n",
    "import dash\n",
    "from dash import dcc, Dash, html, dash_table, callback, Output, Input\n",
    "from dash.dependencies import Input, Output\n",
    "import plotly.express as px\n",
    "from dash import dcc\n"
   ]
  },
  {
   "cell_type": "code",
   "execution_count": 1,
   "metadata": {},
   "outputs": [],
   "source": [
    "import pandas as pd\n",
    "import os\n",
    "import dash\n",
    "from dash import dcc, Dash, html, dash_table, callback, Output, Input\n",
    "from dash.dependencies import Input, Output\n",
    "import plotly.express as px\n",
    "from dash import dcc"
   ]
  },
  {
   "cell_type": "markdown",
   "metadata": {},
   "source": [
    "## 4. Data\n",
    "\n",
    "311 Service Request (https://data.boston.gov/dataset/311-service-requests)"
   ]
  },
  {
   "cell_type": "code",
   "execution_count": 2,
   "metadata": {},
   "outputs": [],
   "source": [
    "df = pd.read_csv('service_311.csv', encoding='ISO-8859-1')"
   ]
  },
  {
   "cell_type": "markdown",
   "metadata": {},
   "source": [
    "## 5. A simple Dash App: Hello World"
   ]
  },
  {
   "cell_type": "markdown",
   "metadata": {},
   "source": [
    "### 5.1 Code Break Down"
   ]
  },
  {
   "cell_type": "markdown",
   "metadata": {},
   "source": [
    "- This line is known as the Dash constructor and is responsible for initializing your app. It is almost always the same for any Dash app you create.\n",
    "```\n",
    "app = Dash()\n",
    "```\n",
    "- Dash component\n",
    "Displayed in the web browser and write it as a list\n",
    "\n",
    "The Div has a few properties, such as children, which we use to add text content to the page: \"Hello World\"\n",
    "```\n",
    "app.layout = [html.Div(children='Hello World')]\n",
    "```\n",
    "- Running App\n",
    "\n",
    "debug = True enables some features for development when running a Dash application\n",
    "\n",
    "1. Automatic Reload\n",
    "2. Detailed Error Messages\n",
    "3. Development Features:\n",
    "\n",
    "```\n",
    "if __name__ == '__main__':\n",
    "    app.run(debug=True)\n",
    "```\n",
    "\n",
    "\n"
   ]
  },
  {
   "cell_type": "code",
   "execution_count": 3,
   "metadata": {},
   "outputs": [
    {
     "data": {
      "text/html": [
       "\n",
       "        <iframe\n",
       "            width=\"100%\"\n",
       "            height=\"650\"\n",
       "            src=\"http://127.0.0.1:8050/\"\n",
       "            frameborder=\"0\"\n",
       "            allowfullscreen\n",
       "            \n",
       "        ></iframe>\n",
       "        "
      ],
      "text/plain": [
       "<IPython.lib.display.IFrame at 0x218acc131d0>"
      ]
     },
     "metadata": {},
     "output_type": "display_data"
    }
   ],
   "source": [
    "app = Dash()\n",
    "\n",
    "app.layout = html.Div(children='Hello World', style = {'color':'red'})\n",
    "\n",
    "if __name__ == '__main__':\n",
    "    app.run(debug=True)"
   ]
  },
  {
   "cell_type": "markdown",
   "metadata": {},
   "source": [
    "### 5.2 Open app Locally\n",
    "\n",
    "- Create app.py\n",
    "- Copy above code to app.py\n",
    "- Right click and select 'Run Python File in Terminal'"
   ]
  },
  {
   "cell_type": "markdown",
   "metadata": {},
   "source": [
    "## 6. Dash App Connecting to Data"
   ]
  },
  {
   "cell_type": "markdown",
   "metadata": {},
   "source": [
    "### 6.1 Incorporate data\n",
    "\n",
    "We can use many approaches to connect data to an app: APIs, external database, local file, Json file, and more\n",
    "\n",
    "In below example, we highlight one of the most common ways of incorporating data fram a CSV sheet."
   ]
  },
  {
   "cell_type": "markdown",
   "metadata": {},
   "source": [
    "### 6.2 Code Breakdown\n",
    "\n",
    "- Read the CSV sheet into a pandas dataframe\n",
    "If data is on your computer, make sure to save it in the same folder that contains the app.py file\n",
    "```\n",
    "df = pd.read_csv('service_31101.csv')\n",
    "```\n",
    "\n",
    "- Apart from page title, we add the [DataTable](https://dash.plotly.com/datatable) component and read data into the table \n",
    "\n",
    "Converts the DataFrame into a format compatible with DataTable. to_dict('records') turns each row in df into a dictionary\n",
    "Limits the display to 10 rows per page\n",
    "\n",
    "```\n",
    "dash_table.DataTable(data=df.to_dict('records'), page_size=10)\n",
    "```\n",
    "Example: \n",
    "\n",
    "| Name  | Age | City         |\n",
    "|-------|-----|--------------|\n",
    "| Alice | 24  | New York     |\n",
    "| Bob   | 30  | Los Angeles  |\n",
    "\n",
    "```\n",
    "[\n",
    "    {'Name': 'Alice', 'Age': 24, 'City': 'New York'},\n",
    "    {'Name': 'Bob', 'Age': 30, 'City': 'Los Angeles'}\n",
    "]\n",
    "```"
   ]
  },
  {
   "cell_type": "code",
   "execution_count": null,
   "metadata": {},
   "outputs": [],
   "source": [
    "df = pd.read_csv('service_31101.csv')\n",
    "\n",
    "app = Dash()\n",
    "\n",
    "# App layout\n",
    "app.layout = [\n",
    "    html.Div(children='My First App with Data'),\n",
    "    dash_table.DataTable(data=df.to_dict('records'), page_size=10)\n",
    "]\n",
    "\n",
    "# Run the app\n",
    "if __name__ == '__main__':\n",
    "    app.run(debug=True)"
   ]
  },
  {
   "cell_type": "markdown",
   "metadata": {},
   "source": [
    "## 7. Visualizing Data\n",
    "\n",
    "The Plotly graphing library has more than [50 chart types](https://plotly.com/python/?_gl=1*jubakm*_gcl_au*MTQ5MDEyMDg0OC4xNzI3ODEwOTg2*_ga*MTYzNTc4MjQyMy4xNzI3ODEwOTg3*_ga_6G7EE0JNSC*MTczMDA3MTMzNi4xNS4xLjE3MzAwNzE1OTUuNjAuMC4w) to use. "
   ]
  },
  {
   "cell_type": "markdown",
   "metadata": {},
   "source": [
    "- Import dcc module (DCC stands for Dash Core Components), this module includes a Graph component called dcc. Graph\n",
    "[dcc.Graph](https://dash.plotly.com/dash-core-components/graph) is used to do data visualization\n",
    "\n",
    "- Using plotly.express library to built the histogram chart and assign it to the figure property.\n",
    "  \n",
    "```\n",
    "dcc.Graph(figure=px.histogram(df, x = \"weekday\", barmode='relative', histfunc='count',color='reason'))\n",
    "```"
   ]
  },
  {
   "cell_type": "code",
   "execution_count": null,
   "metadata": {},
   "outputs": [],
   "source": [
    "df = pd.read_csv('service_31101.csv')\n",
    "\n",
    "app = Dash()\n",
    "\n",
    "# App layout\n",
    "app.layout = [\n",
    "    html.Div(children='My First App with Data'),\n",
    "    dash_table.DataTable(data=df.to_dict('records'), page_size=10),\n",
    "    dcc.Graph(figure = px.histogram(df, x = \"weekday\", barmode='relative',histfunc='count',color='reason'))\n",
    "]\n",
    "\n",
    "# Run the app\n",
    "if __name__ == '__main__':\n",
    "    app.run(debug=True)"
   ]
  },
  {
   "cell_type": "markdown",
   "metadata": {},
   "source": [
    "## 8. Controls and Callbacks\n",
    "\n",
    "Add interactive function to the map by using the callback and function\n",
    "\n",
    "- Add radio button to the app layout\n",
    "\n",
    "dcc.RadioItems display a set up radio buttons that let users select on option at time\n",
    "```\n",
    "dcc.RadioItems(options=['daytime', 'nighttime'], value='daytime', id='controls-and-radio-item')\n",
    "\n",
    "```\n",
    "\n",
    "- Build the callback to create the interaction between the radio button and hisogram chart\n",
    "1. callback update app components automatically when specified inputs change. \n",
    "2. callback has two components:\n",
    "    2.1 Input(): callback is triggered wheven the component inside change\n",
    "    2.2 Output(): callback update the propoerty the component\n",
    "     \n",
    "@callback(\n",
    "    Output(component_id='controls-and-graph', component_property='figure'),\n",
    "    Input(component_id='controls-and-radio-item', component_property='value')\n",
    ")\n",
    "def update_graph(col_chosen):\n",
    "    fig = px.histogram(df, x='continent', y=col_chosen, histfunc='avg')\n",
    "    return fig\n",
    "\n",
    "- Add Callabck function to update the app\n",
    "   Using if-else to update the app\n",
    "\n",
    "- Empty dcc.Graph\n",
    "  Make the dcc.graph empty at the first time"
   ]
  },
  {
   "cell_type": "code",
   "execution_count": null,
   "metadata": {},
   "outputs": [],
   "source": [
    "df = pd.read_csv('service_311.csv')\n",
    "\n",
    "app = Dash()\n",
    "\n",
    "# App layout\n",
    "app.layout = [\n",
    "    html.Div(children='My First App with Data'),\n",
    "    dash_table.DataTable(data=df.to_dict('records'), page_size=10),\n",
    "    dcc.RadioItems(options=['daytime', 'nighttime', 'All'], value='All', id='controls-and-radio-item'),\n",
    "    dcc.Graph(figure = {}, id = \"controls-and-graph\")\n",
    "]\n",
    "\n",
    "@callback(\n",
    "    Output(component_id='controls-and-graph', component_property='figure'),\n",
    "    Input(component_id='controls-and-radio-item', component_property='value')\n",
    ")\n",
    "\n",
    "def update_graph(time_selected):\n",
    "    if time_selected == 'All':\n",
    "        filter_df = df\n",
    "    else:\n",
    "        filter_df = df[df['time_of_day'] == time_selected]\n",
    "        \n",
    "    fig = px.histogram(filter_df, x = \"weekday\", barmode='relative',histfunc='count',color='reason')\n",
    "\n",
    "    return fig    \n",
    "        \n",
    "# Run the app\n",
    "if __name__ == '__main__':\n",
    "    app.run(debug=True)"
   ]
  },
  {
   "cell_type": "markdown",
   "metadata": {},
   "source": [
    "## 9. Styling the app"
   ]
  },
  {
   "cell_type": "markdown",
   "metadata": {},
   "source": [
    "### HTML and CSS"
   ]
  },
  {
   "cell_type": "markdown",
   "metadata": {},
   "source": [
    "- Title\n",
    "```\n",
    "style={'textAlign': 'center', 'color': 'blue', 'fontSize': 30}\n",
    "```\n",
    "\n",
    "- Table\n",
    "  \n",
    "```\n",
    "html.Div(children =dash_table.DataTable(data=df.to_dict('records'), page_size=10, style_table={'overflowX': 'auto'})),\n",
    "```\n"
   ]
  }
 ],
 "metadata": {
  "kernelspec": {
   "display_name": "gpd",
   "language": "python",
   "name": "python3"
  },
  "language_info": {
   "codemirror_mode": {
    "name": "ipython",
    "version": 3
   },
   "file_extension": ".py",
   "mimetype": "text/x-python",
   "name": "python",
   "nbconvert_exporter": "python",
   "pygments_lexer": "ipython3",
   "version": "3.12.7"
  }
 },
 "nbformat": 4,
 "nbformat_minor": 2
}
