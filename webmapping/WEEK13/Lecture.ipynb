{
 "cells": [
  {
   "cell_type": "markdown",
   "metadata": {},
   "source": [
    "<center>\n",
    "    <h2 style=\"color:  #526cfe; font-family: Arial, sans-serif; font-size: 32px; padding: 10px;\">\n",
    "        Week 13: Web Mapping: Dashboards, StoryMaps, and ArcGIS Hub\n",
    "    </h2>\n",
    "</center>"
   ]
  },
  {
   "cell_type": "markdown",
   "metadata": {},
   "source": [
    "<a href=\"https://colab.research.google.com/github/gisynw/ssj-30262/blob/main/docs/Lectures/Week12/geemap.ipynb\" target=\"_blank\">\n",
    "  <img src=\"https://colab.research.google.com/assets/colab-badge.svg\" alt=\"Open in Colab\" style=\"height: 30px;\"/>\n",
    "</a>\n",
    "&nbsp &nbsp\n",
    "<a href=\"./Week12/geemap.ipynb\" target=\"_blank\"> \n",
    "  <img src=\"https://img.icons8.com/?size=100&id=108635&format=png&color=000000\" alt=\"Download\" style=\"height: 40px;\"/>\n",
    " </a>"
   ]
  },
  {
   "cell_type": "markdown",
   "metadata": {},
   "source": [
    "## Operational Dashboard for ArcGIS"
   ]
  },
  {
   "cell_type": "markdown",
   "metadata": {},
   "source": [
    "1. It refers to a built-in, user-friendly tool provided by the platform for creating and viewing data-driven dashboards directly from a web interface.\n",
    "2. Provide key information to yoru data on a single screen\n",
    "3. ArcGIS Online\n",
    "   \n",
    "    3.1 Included with your ArcGIS organization\n",
    "    3.2 Updated with ArcGIS Online\n",
    "4. ArcGIS Enterprise\n",
    "    4.1 Available at 10.6 release"
   ]
  },
  {
   "cell_type": "markdown",
   "metadata": {},
   "source": [
    "### Built-in functionality\n",
    "1. ready to use data visualizations\n",
    "   - Map, Legend\n",
    "   - Serial chart, Pie chart\n",
    "   - Indicator, Gauge\n",
    "   - List, Details\n",
    "   - Embedded content, Rich text\n",
    "\n",
    "2. Various tools and interactivity options\n",
    "   - Tools that interact with the map (e.g., layer visibility,bookmarks)\n",
    "   - Dashboard elements configured to communicate with each other"
   ]
  },
  {
   "cell_type": "markdown",
   "metadata": {},
   "source": [
    "### Patterns of use\n",
    "- Monitor and manage the operations/assets\n",
    "- Event Management\n",
    "- Summaries\n",
    "- Many, Many others ..."
   ]
  },
  {
   "cell_type": "markdown",
   "metadata": {},
   "source": [
    "### Example\n",
    "\n",
    "[COVID-19 Dashboard](https://www.arcgis.com/apps/dashboards/bda7594740fd40299423467b48e9ecf6)\n",
    "\n",
    "[West Virginia Flood Dashboards](https://wvfrf.org/wvre/dashboard/home/)\n",
    "\n",
    "[Earthquake Data Dashboard](https://www.arcgis.com/apps/dashboards/163bf8b94c3c4682a3c8b816724b370c)\n",
    "\n",
    "[ArcGIS Dashboards Gallery](https://doc.arcgis.com/en/dashboards/gallery/)"
   ]
  },
  {
   "cell_type": "markdown",
   "metadata": {},
   "source": [
    "### Start a Dashboard\n",
    "\n",
    "1. Search 'Crime Incidents in Census Tracts City of Dallas' data in ArcGIS Online (AGO)\n",
    "2. Save as a webmap to your AGO\n",
    "3. Create a Dashboard"
   ]
  },
  {
   "cell_type": "markdown",
   "metadata": {},
   "source": [
    "### Online Learning Resources\n",
    "\n",
    "[Get Started with ArcGIS Dashboards Class Resources](https://community.esri.com/t5/esri-training-documents/get-started-with-arcgis-dashboards-class-resources/ta-p/1094882)"
   ]
  },
  {
   "cell_type": "markdown",
   "metadata": {},
   "source": [
    "## ArcGIS Storymaps"
   ]
  },
  {
   "cell_type": "markdown",
   "metadata": {},
   "source": [
    "### Learning Objectives\n",
    "- Understand what ArcGIS StoryMaps are and their significance in storytelling and communication.\n",
    "- Explore the components and structure of a StoryMap.\n",
    "- Learn how to create a basic StoryMap.\n",
    "- Recognize best practices for designing engaging and effective StoryMaps."
   ]
  },
  {
   "cell_type": "markdown",
   "metadata": {},
   "source": [
    "### Introduction to ArcGIS StoryMaps\n",
    "\n",
    "- What are StoryMaps?\n",
    "    - A digital platform for combining maps, text, images, and multimedia into a narrative.\n",
    "    - Use cases: historical analysis, project presentations, urban development plans, environmental studies.\n",
    "- Why Use StoryMaps?\n",
    "    - Engages audiences with interactive and visually compelling narratives.\n",
    "    - Communicates complex geospatial data effectively.\n",
    "    - Accessible and shareable on various platforms."
   ]
  },
  {
   "cell_type": "markdown",
   "metadata": {},
   "source": [
    "### Components of a StoryMap\n",
    "- Overview of key elements:\n",
    "    - Title and Introduction: Hooks the audience.\n",
    "    - Narrative Sections: Text for storytelling.\n",
    "    - Interactive Maps: Engages the audience with geospatial data.\n",
    "    - Media (Images, Videos, etc.): Enhances the story visually.\n",
    "    - Call-to-Actions (Buttons/Links): Guides audience interactions.\n",
    "    - Credits and Sources: Maintains credibility."
   ]
  },
  {
   "cell_type": "markdown",
   "metadata": {},
   "source": [
    "### Demonstration: Creating a Basic StoryMap\n",
    "\n",
    "Step 1: Access ArcGIS StoryMaps.\n",
    "\n",
    "Navigate to the ArcGIS Online account.\n",
    "Select \"StoryMaps\" from the app options.\n",
    "\n",
    "Step 2: Create a New StoryMap.\n",
    "\n",
    "Add a title, subtitle, and description.\n",
    "Choose a pre-defined theme (e.g., modern, classic).\n",
    "\n",
    "Step 3: Add Content.\n",
    "\n",
    "Text Blocks: Write an introductory narrative.\n",
    "Maps: Embed a web map or upload data to create a custom map.\n",
    "Media: Upload images or embed videos to complement the story.\n",
    "\n",
    "Step 4: Customize and Publish.\n",
    "\n",
    "Use customization tools to adjust layout and design.\n",
    "Publish and share the link for feedback or presentation."
   ]
  },
  {
   "cell_type": "markdown",
   "metadata": {},
   "source": [
    "## Online Learning Resources\n",
    "\n",
    "[ArcGIS StoryMaps gallery](https://doc.arcgis.com/en/arcgis-storymaps/gallery/)\n",
    "\n",
    "## Esri StoryMaps Competition\n",
    "\n",
    "[2024 ArcGIS StoryMaps Competition: Deadline Dec 6](https://www.esri.com/en-us/arcgis/products/arcgis-storymaps/contest/overview)"
   ]
  },
  {
   "cell_type": "markdown",
   "metadata": {},
   "source": [
    "## Introduction to ArcGIS Hub"
   ]
  },
  {
   "cell_type": "markdown",
   "metadata": {},
   "source": [
    "- Learning Objectives\n",
    "1. Understand what ArcGIS Hub is and how it enables collaboration and engagement.\n",
    "2. Explore the key features and benefits of ArcGIS Hub.\n",
    "3. Learn the basics of creating an ArcGIS Hub site.\n",
    "4. Recognize real-world use cases to inspire innovative applications."
   ]
  },
  {
   "cell_type": "markdown",
   "metadata": {},
   "source": [
    "1. Introduction to ArcGIS Hub\n",
    "- What is ArcGIS Hub?\n",
    "    - A cloud-based platform for creating community engagement initiatives.\n",
    "    - Integrates GIS technology with open data sharing and public collaboration.\n",
    "- Why Use ArcGIS Hub?\n",
    "    - Facilitates data transparency and public participation.\n",
    "    - Centralizes information for easy access by stakeholders.\n",
    "    - Encourages civic engagement in urban planning, disaster response, or social projects."
   ]
  },
  {
   "cell_type": "markdown",
   "metadata": {},
   "source": [
    "## Key Features of ArcGIS Hub\n",
    "1. Hub Sites:\n",
    "    - Public-facing websites to share projects, maps, and resources.\n",
    "    - Customizable for specific themes or initiatives.\n",
    "2. Open Data:\n",
    "    - Share datasets publicly for research, policy, or community use.\n",
    "    - API support for developers to integrate data.\n",
    "3. Community Engagement:\n",
    "    - Integrate surveys, polls, or events to gather public feedback.\n",
    "    - Share dashboards with live data updates.\n",
    "4. Initiatives:\n",
    "    - Organize content and data around specific goals (e.g., reducing carbon emissions, improving public transport).\n",
    "5. Collaboration Tools:\n",
    "    - Invite team members or public contributors to collaborate."
   ]
  },
  {
   "cell_type": "markdown",
   "metadata": {},
   "source": [
    "## Example of ArcGIS Hub\n",
    "\n",
    "[City of Lewisville Open Data](https://hub-lewisville.opendata.arcgis.com/)\n",
    "\n",
    "[City of Dallas Open Data](https://gisservices-dallasgis.opendata.arcgis.com/)\n",
    "\n",
    "[Boston Open Data](https://bostonopendata-boston.opendata.arcgis.com/)"
   ]
  },
  {
   "cell_type": "markdown",
   "metadata": {},
   "source": [
    "## Online Resources\n",
    "\n",
    "[ArcGIS Hub Gallery](https://doc.arcgis.com/en/hub/gallery/)\n",
    "\n",
    "[ArcGIS Hub](https://www.esri.com/en-us/arcgis/products/arcgis-hub/resources)"
   ]
  }
 ],
 "metadata": {
  "language_info": {
   "name": "python"
  }
 },
 "nbformat": 4,
 "nbformat_minor": 2
}
